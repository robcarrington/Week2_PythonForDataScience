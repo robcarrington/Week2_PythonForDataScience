{
 "cells": [
  {
   "cell_type": "markdown",
   "metadata": {},
   "source": [
    "# Python for Data Science, Level I\n",
    "### *Session \\#4*\n",
    "---\n",
    "\n",
    "### Helpful shortcuts\n",
    "---\n",
    "\n",
    "**SHIFT** + **ENTER** ----> Execute Cell\n",
    "\n",
    "**TAB** ----> See autocomplete options\n",
    "\n",
    "**ESC** then **b** ----> Create Cell \n",
    "\n",
    "**ESC** then **dd** ----> Delete Cell\n",
    "\n",
    "**\\[python expression\\]?** ---> Explanation of that Python expression\n",
    "\n",
    "**ESC** then **m** then __ENTER__ ----> Switch to Markdown mode"
   ]
  },
  {
   "cell_type": "markdown",
   "metadata": {},
   "source": [
    "## I. Array Basics\n",
    "\n",
    "\n",
    "### Warm Ups\n",
    "---\n",
    "\n",
    "**Import numpy:** `import numpy as np`"
   ]
  },
  {
   "cell_type": "code",
   "execution_count": 251,
   "metadata": {},
   "outputs": [],
   "source": [
    "import numpy as np"
   ]
  },
  {
   "cell_type": "markdown",
   "metadata": {},
   "source": [
    "**Create an array from a list:** `int_array = np.array([8, 6, 7, 5, 3, 0, 9])`"
   ]
  },
  {
   "cell_type": "code",
   "execution_count": 252,
   "metadata": {},
   "outputs": [],
   "source": [
    "int_array = np.array([8, 6, 7, 5, 3, 0, 9])"
   ]
  },
  {
   "cell_type": "markdown",
   "metadata": {},
   "source": [
    "**Broadcasting:** `int_array * 3`"
   ]
  },
  {
   "cell_type": "code",
   "execution_count": null,
   "metadata": {},
   "outputs": [],
   "source": []
  },
  {
   "cell_type": "markdown",
   "metadata": {},
   "source": [
    "**Element-wise arithmetic:** `np.array([1, 2, 3]) + np.array([3, 2, 1])`"
   ]
  },
  {
   "cell_type": "code",
   "execution_count": null,
   "metadata": {},
   "outputs": [],
   "source": []
  },
  {
   "cell_type": "markdown",
   "metadata": {},
   "source": [
    "**Create copy of array:** `array_copy = int_array.copy()`"
   ]
  },
  {
   "cell_type": "code",
   "execution_count": null,
   "metadata": {},
   "outputs": [],
   "source": []
  },
  {
   "cell_type": "markdown",
   "metadata": {},
   "source": [
    "### Exercises\n",
    "---\n",
    "**1. The array** `temps` **represents a sequence of temperature readings in Farenheit. Use broadcasting to convert them all to Celcius.**\n",
    "\n",
    "Hint: To convert from Farenheit to Celcius, subtract 32 degress and multiply by 5/9."
   ]
  },
  {
   "cell_type": "code",
   "execution_count": 254,
   "metadata": {},
   "outputs": [],
   "source": [
    "temps = np.array([92, 103, 85, 94, 90, 92, 87, 82, 80])\n",
    "celcius = (temps - 32) * (5/9)"
   ]
  },
  {
   "cell_type": "markdown",
   "metadata": {},
   "source": [
    "**2. Use broadcasting to convert your new temperature array to Kelvin.**\n",
    "\n",
    "Hint: To convert Celcius to Kelvin, add 273 degrees."
   ]
  },
  {
   "cell_type": "code",
   "execution_count": 255,
   "metadata": {},
   "outputs": [
    {
     "data": {
      "text/plain": [
       "array([306.33333333, 312.44444444, 302.44444444, 307.44444444,\n",
       "       305.22222222, 306.33333333, 303.55555556, 300.77777778,\n",
       "       299.66666667])"
      ]
     },
     "execution_count": 255,
     "metadata": {},
     "output_type": "execute_result"
    }
   ],
   "source": [
    "kelvin = celcius + 273"
   ]
  },
  {
   "cell_type": "markdown",
   "metadata": {},
   "source": [
    "**3. Each of the** `game` **arrays represents how many points were scored that game by each player on the team**\n",
    "\n",
    "**Create an array of each player's average number of points scored, using element-wise arithmetic and broadcasting.**"
   ]
  },
  {
   "cell_type": "code",
   "execution_count": 257,
   "metadata": {},
   "outputs": [],
   "source": [
    "game1 = np.array([6, 26, 18, 10])\n",
    "game2 = np.array([12, 24, 28, 8])\n",
    "game3 = np.array([14, 30, 22, 14])\n",
    "\n",
    "totals = game1 + game2 + game3\n",
    "average = totals / 3"
   ]
  },
  {
   "cell_type": "markdown",
   "metadata": {},
   "source": [
    "**4. What would the averages look like if each player had scored twice as many points during the last game?**"
   ]
  },
  {
   "cell_type": "code",
   "execution_count": 260,
   "metadata": {},
   "outputs": [],
   "source": [
    "new_totals = game1 + game2 + (game3*2)\n",
    "new_average = new_totals / 3"
   ]
  },
  {
   "cell_type": "markdown",
   "metadata": {},
   "source": [
    "**5. The array** `book_pages` **represents how many pages each book has, and** `book_hours` **represents how long it took to finish the book.**\n",
    "\n",
    "**Which book was most difficult to read, based on its pages-per-hour reading rate?**"
   ]
  },
  {
   "cell_type": "code",
   "execution_count": 261,
   "metadata": {},
   "outputs": [
    {
     "data": {
      "text/plain": [
       "array([ 7.37837838,  8.49315068, 14.        , 12.37209302])"
      ]
     },
     "execution_count": 261,
     "metadata": {},
     "output_type": "execute_result"
    }
   ],
   "source": [
    "book_pages = np.array([273, 620, 350, 532])\n",
    "book_hours = np.array([37, 73, 25, 43])\n",
    "\n",
    "book_pages / book_hours"
   ]
  },
  {
   "cell_type": "markdown",
   "metadata": {},
   "source": [
    "### Extra Credit\n",
    "---\n",
    "**1. Numpy also provides handy functions for creating arrays, such as** `np.random.randint()`. **The function takes three inputs: the lower bound, the upper bound, and the number of random numbers you want. For example:**\n",
    "\n",
    "np.random.randint(1,10, 3) ---> array([1, 3, 9])\n",
    "\n",
    "**How would you use** `randint()` **to simulate a turn in the game Yahtzee, which is played with 5 standard dice?** "
   ]
  },
  {
   "cell_type": "code",
   "execution_count": 18,
   "metadata": {},
   "outputs": [
    {
     "data": {
      "text/plain": [
       "array([4, 1, 4, 5, 4])"
      ]
     },
     "execution_count": 18,
     "metadata": {},
     "output_type": "execute_result"
    }
   ],
   "source": [
    "np.random.randint(1,7,5)"
   ]
  },
  {
   "cell_type": "markdown",
   "metadata": {},
   "source": [
    "## II. Boolean Masks\n",
    "\n",
    "\n",
    "### Warm Ups\n",
    "---\n",
    "\n",
    "**1. Create a boolean mask:** `int_array < 3`"
   ]
  },
  {
   "cell_type": "code",
   "execution_count": null,
   "metadata": {},
   "outputs": [],
   "source": []
  },
  {
   "cell_type": "markdown",
   "metadata": {},
   "source": [
    "**2. Filtering using a boolean mask:** `int_array[int_array < 3]`"
   ]
  },
  {
   "cell_type": "code",
   "execution_count": 210,
   "metadata": {},
   "outputs": [
    {
     "data": {
      "text/plain": [
       "array([0])"
      ]
     },
     "execution_count": 210,
     "metadata": {},
     "output_type": "execute_result"
    }
   ],
   "source": []
  },
  {
   "cell_type": "markdown",
   "metadata": {},
   "source": [
    "**3. Combining boolean masks with an OR operator:** `int_array[(3 < int_array) | (int_array < 7)]`"
   ]
  },
  {
   "cell_type": "code",
   "execution_count": null,
   "metadata": {},
   "outputs": [],
   "source": []
  },
  {
   "cell_type": "markdown",
   "metadata": {},
   "source": [
    "**4. Combining boolean masks with an AND operator:** `int_array[(3 < int_array) & (int_array < 7)]`"
   ]
  },
  {
   "cell_type": "code",
   "execution_count": null,
   "metadata": {},
   "outputs": [],
   "source": []
  },
  {
   "cell_type": "markdown",
   "metadata": {},
   "source": [
    "**5. Assignment using a boolean mask:** `int_array[int_array % 2 == 0] = 0`"
   ]
  },
  {
   "cell_type": "code",
   "execution_count": null,
   "metadata": {},
   "outputs": [],
   "source": []
  },
  {
   "cell_type": "markdown",
   "metadata": {},
   "source": [
    "### Exercises\n",
    "---\n",
    "\n",
    "**1. The array** `test_scores` **represents the final test scores for a class. How many students got at least 80 points on the test?**"
   ]
  },
  {
   "cell_type": "code",
   "execution_count": 132,
   "metadata": {},
   "outputs": [],
   "source": [
    "test_scores = np.array([68, 95, 92, 73, 84, 90, 69, 75, 80, 82, 90, 85, 86, 64, 98])"
   ]
  },
  {
   "cell_type": "markdown",
   "metadata": {},
   "source": [
    "**2. Filter the array to just students who got between 65 and 75 points on the test.**"
   ]
  },
  {
   "cell_type": "code",
   "execution_count": 265,
   "metadata": {},
   "outputs": [
    {
     "data": {
      "text/plain": [
       "array([68, 73, 69])"
      ]
     },
     "execution_count": 265,
     "metadata": {},
     "output_type": "execute_result"
    }
   ],
   "source": [
    "test_scores[(65 < test_scores)&(test_scores < 75)]"
   ]
  },
  {
   "cell_type": "markdown",
   "metadata": {},
   "source": [
    "**3. How many students got above 95 or below 65 points?**"
   ]
  },
  {
   "cell_type": "code",
   "execution_count": 266,
   "metadata": {},
   "outputs": [
    {
     "data": {
      "text/plain": [
       "array([64, 98])"
      ]
     },
     "execution_count": 266,
     "metadata": {},
     "output_type": "execute_result"
    }
   ],
   "source": [
    "test_scores[(95 < test_scores)|(test_scores < 65)]"
   ]
  },
  {
   "cell_type": "markdown",
   "metadata": {},
   "source": [
    "**4. How many students got exactly 90 points?**"
   ]
  },
  {
   "cell_type": "code",
   "execution_count": 302,
   "metadata": {},
   "outputs": [
    {
     "data": {
      "text/plain": [
       "array([90, 90])"
      ]
     },
     "execution_count": 302,
     "metadata": {},
     "output_type": "execute_result"
    }
   ],
   "source": [
    "test_scores[test_scores == 90]"
   ]
  },
  {
   "cell_type": "markdown",
   "metadata": {},
   "source": [
    "**5. The array** `golf_scores` **represents how many strokes a golfer took on each hole during a round.**\n",
    "\n",
    "**There's a 6-stroke maximum, so overwrite any higher score with a 6.** \n",
    "\n",
    "Hint: Use a boolean mask to assign the new value."
   ]
  },
  {
   "cell_type": "code",
   "execution_count": 124,
   "metadata": {},
   "outputs": [
    {
     "data": {
      "text/plain": [
       "array([6, 2, 1, 2, 6, 2, 4, 5, 6, 6, 6, 4, 6, 5, 6, 6, 3, 3])"
      ]
     },
     "execution_count": 124,
     "metadata": {},
     "output_type": "execute_result"
    }
   ],
   "source": [
    "golf_scores = np.random.randint(1, 10, 18)\n",
    "golf_scores[golf_scores > 6] = 6\n",
    "golf_scores"
   ]
  },
  {
   "cell_type": "markdown",
   "metadata": {},
   "source": [
    "### Extra Credit\n",
    "---\n",
    "\n",
    "**1. Par, or the expected number of strokes, for each hole is given by the array** `par`\n",
    "\n",
    "**Which holes did the golfer shoot at or under par?**\n",
    "\n",
    "Hint: First find a boolean mask for the holes under par, then use it on the array `[1, 2, 3, ..., 18]`."
   ]
  },
  {
   "cell_type": "code",
   "execution_count": 236,
   "metadata": {},
   "outputs": [],
   "source": [
    "par = np.array([3, 4, 3, 3, 5, 3, 4, 3, 3, 4, 5, 3, 3, 3, 5, 3, 3, 3])"
   ]
  },
  {
   "cell_type": "markdown",
   "metadata": {},
   "source": [
    "## III. Array Methods\n",
    "\n",
    "*Note: All array methods can also be called as functions of the Numpy module.* `int_array.sum()` <=> `np.sum(int_array)`\n",
    "\n",
    "### Warm Ups\n",
    "---\n",
    "\n",
    "**Sum of an array:** `int_array.sum()`"
   ]
  },
  {
   "cell_type": "code",
   "execution_count": null,
   "metadata": {},
   "outputs": [],
   "source": []
  },
  {
   "cell_type": "markdown",
   "metadata": {},
   "source": [
    "**Product of an array:** `int_array.prod()`"
   ]
  },
  {
   "cell_type": "code",
   "execution_count": null,
   "metadata": {},
   "outputs": [],
   "source": []
  },
  {
   "cell_type": "markdown",
   "metadata": {},
   "source": [
    "**Find the max or min element:** `int_array.max()` **or** `int_array.min()`"
   ]
  },
  {
   "cell_type": "code",
   "execution_count": null,
   "metadata": {},
   "outputs": [],
   "source": []
  },
  {
   "cell_type": "markdown",
   "metadata": {},
   "source": [
    "**Find the average:** `int_array.mean()`"
   ]
  },
  {
   "cell_type": "code",
   "execution_count": null,
   "metadata": {},
   "outputs": [],
   "source": []
  },
  {
   "cell_type": "markdown",
   "metadata": {},
   "source": [
    "**Sort an array:** `int_array.sort()`"
   ]
  },
  {
   "cell_type": "code",
   "execution_count": null,
   "metadata": {},
   "outputs": [],
   "source": []
  },
  {
   "cell_type": "markdown",
   "metadata": {},
   "source": [
    "## Exercises\n",
    "---\n",
    "**1. Find the average test score from** `test_scores`"
   ]
  },
  {
   "cell_type": "code",
   "execution_count": 269,
   "metadata": {},
   "outputs": [],
   "source": [
    "average = test_scores.mean()"
   ]
  },
  {
   "cell_type": "markdown",
   "metadata": {},
   "source": [
    "**2. Create an array showing how many points above/below average each test score was.**"
   ]
  },
  {
   "cell_type": "code",
   "execution_count": 270,
   "metadata": {},
   "outputs": [
    {
     "data": {
      "text/plain": [
       "array([-14.06666667,  12.93333333,   9.93333333,  -9.06666667,\n",
       "         1.93333333,   7.93333333, -13.06666667,  -7.06666667,\n",
       "        -2.06666667,  -0.06666667,   7.93333333,   2.93333333,\n",
       "         3.93333333, -18.06666667,  15.93333333])"
      ]
     },
     "execution_count": 270,
     "metadata": {},
     "output_type": "execute_result"
    }
   ],
   "source": [
    "test_scores - average"
   ]
  },
  {
   "cell_type": "markdown",
   "metadata": {},
   "source": [
    "**3. Find the final number of strokes over par, by summing** `golf_scores` **and** `par`"
   ]
  },
  {
   "cell_type": "code",
   "execution_count": 271,
   "metadata": {},
   "outputs": [
    {
     "data": {
      "text/plain": [
       "16"
      ]
     },
     "execution_count": 271,
     "metadata": {},
     "output_type": "execute_result"
    }
   ],
   "source": [
    "golf_scores.sum() - par.sum()"
   ]
  },
  {
   "cell_type": "markdown",
   "metadata": {},
   "source": [
    "**4. Find the number of degrees between the coldest and hottest temperature readings from** `temps` "
   ]
  },
  {
   "cell_type": "code",
   "execution_count": 272,
   "metadata": {},
   "outputs": [
    {
     "data": {
      "text/plain": [
       "23"
      ]
     },
     "execution_count": 272,
     "metadata": {},
     "output_type": "execute_result"
    }
   ],
   "source": [
    "temps.max() - temps.min()"
   ]
  },
  {
   "cell_type": "markdown",
   "metadata": {},
   "source": [
    "### Extra Credit\n",
    "---\n",
    "\n",
    "**1. Among students who scored higher than 70 points in** `test_scores`, **what was the average score?** "
   ]
  },
  {
   "cell_type": "code",
   "execution_count": 279,
   "metadata": {},
   "outputs": [
    {
     "data": {
      "text/plain": [
       "85.83333333333333"
      ]
     },
     "execution_count": 279,
     "metadata": {},
     "output_type": "execute_result"
    }
   ],
   "source": [
    "test_scores[test_scores > 70].mean()"
   ]
  },
  {
   "cell_type": "markdown",
   "metadata": {},
   "source": [
    "**2. If you removed the worst three scores from** `test_scores`, **what would be the average score?**"
   ]
  },
  {
   "cell_type": "code",
   "execution_count": 288,
   "metadata": {},
   "outputs": [
    {
     "data": {
      "text/plain": [
       "78.83333333333333"
      ]
     },
     "execution_count": 288,
     "metadata": {},
     "output_type": "execute_result"
    }
   ],
   "source": [
    "test_scores.sort()\n",
    "test_scores[:-3].mean()"
   ]
  },
  {
   "cell_type": "markdown",
   "metadata": {},
   "source": [
    "## IV. Functions for Creating Arrays\n",
    "\n",
    "### Warm Ups\n",
    "---"
   ]
  },
  {
   "cell_type": "markdown",
   "metadata": {},
   "source": [
    "**Create a ten-element array of zeros or ones:** `np.zeros(10)` **or** `np.ones(10)`"
   ]
  },
  {
   "cell_type": "code",
   "execution_count": null,
   "metadata": {},
   "outputs": [],
   "source": []
  },
  {
   "cell_type": "markdown",
   "metadata": {},
   "source": [
    "**Create an array ranging from 5 to 10:** `np.arange(5, 11)`"
   ]
  },
  {
   "cell_type": "code",
   "execution_count": null,
   "metadata": {},
   "outputs": [],
   "source": []
  },
  {
   "cell_type": "markdown",
   "metadata": {},
   "source": [
    "**Create an array of random integers from 0 to 10:** `np.random.randint(0,10,20)`"
   ]
  },
  {
   "cell_type": "code",
   "execution_count": null,
   "metadata": {},
   "outputs": [],
   "source": []
  },
  {
   "cell_type": "markdown",
   "metadata": {},
   "source": [
    "**Create an array by randomly choosing from a list:** `np.random.choice([1, 2, 3], 5)`"
   ]
  },
  {
   "cell_type": "code",
   "execution_count": null,
   "metadata": {},
   "outputs": [],
   "source": []
  },
  {
   "cell_type": "markdown",
   "metadata": {},
   "source": [
    "**Create an evenly spaced array of 5 values between 0 and 10**: `np.linspace(0, 10, 5)`"
   ]
  },
  {
   "cell_type": "code",
   "execution_count": null,
   "metadata": {},
   "outputs": [],
   "source": []
  },
  {
   "cell_type": "markdown",
   "metadata": {},
   "source": [
    "### Exercises\n",
    "---\n",
    "**1. Create an array that gives you every eighth of a rotation between 0 and 360 degrees.** \n",
    "\n",
    "**For example, it would start:** `[0, 45, 90...]`"
   ]
  },
  {
   "cell_type": "code",
   "execution_count": 290,
   "metadata": {},
   "outputs": [
    {
     "data": {
      "text/plain": [
       "array([  0.,  45.,  90., 135., 180., 225., 270., 315., 360.])"
      ]
     },
     "execution_count": 290,
     "metadata": {},
     "output_type": "execute_result"
    }
   ],
   "source": [
    "np.linspace(0, 360, 9)"
   ]
  },
  {
   "cell_type": "markdown",
   "metadata": {},
   "source": [
    "**2. The factorial of a number n,** `n!`, **is defined as** `n * (n-1) * (n-2) ... * 2 * 1`. \n",
    "\n",
    "**So for example,** `3!` **is equal to** `3 * 2 * 1 = 6`\n",
    "\n",
    "**Create a vectorized version of this function, using Numpy functions/methods instead of a loop.**"
   ]
  },
  {
   "cell_type": "code",
   "execution_count": 304,
   "metadata": {},
   "outputs": [],
   "source": [
    "def factorial(num):\n",
    "    answer = 1\n",
    "    for i in range(1, num+1):\n",
    "        answer = answer * i\n",
    "    return answer\n",
    "\n",
    "def np_factorial(num):\n",
    "    answer = np.arange(1, num+1).prod()\n",
    "    return answer"
   ]
  },
  {
   "cell_type": "markdown",
   "metadata": {},
   "source": [
    "**3. Complete the function** `infinite_monkeys()` **that will construct random sentences from a word bank.**"
   ]
  },
  {
   "cell_type": "code",
   "execution_count": 300,
   "metadata": {},
   "outputs": [
    {
     "data": {
      "text/plain": [
       "'swam cloud the squirrel went'"
      ]
     },
     "execution_count": 300,
     "metadata": {},
     "output_type": "execute_result"
    }
   ],
   "source": [
    "def infinite_monkeys(length):\n",
    "    word_bank = [\"the\", \"hotdog\", \"squirrel\", \"went\", \"swam\", \"flew\", \"cloud\", \"to\", \"land\"]\n",
    "    return \" \".join(np.random.choice(word_bank, length))\n",
    "\n",
    "infinite_monkeys(5)"
   ]
  },
  {
   "cell_type": "markdown",
   "metadata": {},
   "source": [
    "### Extra Credit\n",
    "---\n",
    "\n",
    "**1. (EXTRA HARD) Estimate the area under the curve of the sin function from 0 to pi:** \n",
    "\n",
    "Hint: Use rectangles! Use np.linspace() to create even slices along the x-axis, and np.sin() to find the height of the rectangles at those points. As you increase the number of slices, it should converge toward 2.\n",
    "\n",
    "![image of sine function](http://www.visumath.be/helpfile/images/integralexample1.png \"Area under sine function\")"
   ]
  },
  {
   "cell_type": "code",
   "execution_count": 303,
   "metadata": {},
   "outputs": [
    {
     "data": {
      "text/plain": [
       "1.9593285523375814"
      ]
     },
     "execution_count": 303,
     "metadata": {},
     "output_type": "execute_result"
    }
   ],
   "source": [
    "from math import pi\n",
    "\n",
    "slice_count = 50\n",
    "start = 0\n",
    "stop = pi\n",
    "\n",
    "width = stop/slice_count\n",
    "inputs = np.linspace(0, stop, slice_count)\n",
    "sin_values = np.sin(inputs)\n",
    "np.sum(sin_values * width)"
   ]
  }
 ],
 "metadata": {
  "kernelspec": {
   "display_name": "Python 3",
   "language": "python",
   "name": "python3"
  },
  "language_info": {
   "codemirror_mode": {
    "name": "ipython",
    "version": 3
   },
   "file_extension": ".py",
   "mimetype": "text/x-python",
   "name": "python",
   "nbconvert_exporter": "python",
   "pygments_lexer": "ipython3",
   "version": "3.6.8"
  }
 },
 "nbformat": 4,
 "nbformat_minor": 2
}
