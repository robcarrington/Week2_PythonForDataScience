{
 "cells": [
  {
   "cell_type": "markdown",
   "metadata": {},
   "source": [
    "# Python for Data Science, Level I\n",
    "### *Session \\#3*\n",
    "---\n",
    "\n",
    "### Helpful shortcuts\n",
    "---\n",
    "\n",
    "**SHIFT** + **ENTER** ----> Execute Cell\n",
    "\n",
    "**TAB** ----> See autocomplete options\n",
    "\n",
    "**ESC** then **b** ----> Create Cell \n",
    "\n",
    "**ESC** then **dd** ----> Delete Cell\n",
    "\n",
    "**\\[python expression\\]?** ---> Explanation of that Python expression\n",
    "\n",
    "**ESC** then **m** then __ENTER__ ----> Switch to Markdown mode"
   ]
  },
  {
   "cell_type": "markdown",
   "metadata": {},
   "source": [
    "## I. Week 1 Review\n",
    "\n",
    "### Warm Ups\n",
    "\n",
    "---\n",
    "\n",
    "**Using a for-loop on a list:**\n",
    "\n",
    "```python\n",
    "for num in [1, 2, 3]:\n",
    "    print(num)\n",
    "```"
   ]
  },
  {
   "cell_type": "code",
   "execution_count": null,
   "metadata": {},
   "outputs": [],
   "source": []
  },
  {
   "cell_type": "markdown",
   "metadata": {},
   "source": [
    "**Defining a function:**\n",
    "    \n",
    "```python\n",
    "def double(word):\n",
    "    answer = word + word\n",
    "    return answer\n",
    "``` "
   ]
  },
  {
   "cell_type": "code",
   "execution_count": null,
   "metadata": {},
   "outputs": [],
   "source": []
  },
  {
   "cell_type": "markdown",
   "metadata": {},
   "source": [
    "**Check inclusion:** `\"i\" in \"team\"`"
   ]
  },
  {
   "cell_type": "code",
   "execution_count": null,
   "metadata": {},
   "outputs": [],
   "source": []
  },
  {
   "cell_type": "markdown",
   "metadata": {},
   "source": [
    "**If-else statement:**\n",
    "    \n",
    "```python\n",
    "if condition:\n",
    "    print(\"do something\")\n",
    "else:\n",
    "    print(\"do a different thing\")\n",
    "```"
   ]
  },
  {
   "cell_type": "code",
   "execution_count": null,
   "metadata": {},
   "outputs": [],
   "source": []
  },
  {
   "cell_type": "markdown",
   "metadata": {},
   "source": [
    "**Creating a range from 1 to 10:** `range(1, 11)`"
   ]
  },
  {
   "cell_type": "code",
   "execution_count": null,
   "metadata": {},
   "outputs": [],
   "source": []
  },
  {
   "cell_type": "markdown",
   "metadata": {},
   "source": [
    "## Exercises\n",
    "---\n",
    "\n",
    "**1. Write function that, given a list of numbers, will return the count of negative numbers in the list.**"
   ]
  },
  {
   "cell_type": "code",
   "execution_count": null,
   "metadata": {},
   "outputs": [],
   "source": [
    "def count_negatives(num_list):\n",
    "    total = 0\n",
    "    for num in num_list:\n",
    "        if num < 0:\n",
    "            total = total + 1\n",
    "    return total"
   ]
  },
  {
   "cell_type": "markdown",
   "metadata": {},
   "source": [
    "**2. Write a function that, given any letter, will return** `\"VOWEL\"` **or** `\"CONSONANT\"` **depending on if the letter is a vowel or consonant.** "
   ]
  },
  {
   "cell_type": "code",
   "execution_count": null,
   "metadata": {},
   "outputs": [],
   "source": [
    "def vowel_detector(letter):\n",
    "    if letter in \"aeiouAEIOU\":\n",
    "        return \"VOWEL\"\n",
    "    else:\n",
    "        return \"CONSONANT\""
   ]
  },
  {
   "cell_type": "markdown",
   "metadata": {},
   "source": [
    "**3. Write a function** `same_letter()` **that takes two strings and returns the number of positions where both strings have the same character.**\n",
    "\n",
    "**For example,** `same_letter(\"battery\", \"belt\")` **returns** `2`, **since** `\"b\"` **and** `\"t\"` **appear in the same place in both strings.**"
   ]
  },
  {
   "cell_type": "code",
   "execution_count": 16,
   "metadata": {},
   "outputs": [],
   "source": [
    "def same_letter(string1, string2):\n",
    "    total = 0\n",
    "    length = min(len(string1), len(string2))\n",
    "    for i in range(length):\n",
    "        if string1[i] == string2[i]:\n",
    "            total = total + 1\n",
    "    return total"
   ]
  },
  {
   "cell_type": "markdown",
   "metadata": {},
   "source": [
    "### Extra Credit\n",
    "---\n",
    "**1. Write a function digit_sum() that, given a number, will return the sum of its digits.**\n",
    "\n",
    "**For example,** `digit_sum(1824)` **would return** `15`\n",
    "\n",
    "Hint: You will need to use str() to convert input to string, then int() to get back to integers."
   ]
  },
  {
   "cell_type": "code",
   "execution_count": 18,
   "metadata": {},
   "outputs": [],
   "source": [
    "def digit_sum(num):\n",
    "    total = 0\n",
    "    for digit in str(num):\n",
    "        total = total + int(digit)\n",
    "    return total"
   ]
  },
  {
   "cell_type": "markdown",
   "metadata": {},
   "source": [
    "## II. Dictionaries\n",
    "\n",
    "\n",
    "### Warm Ups\n",
    "---\n",
    "\n",
    "**Dictionary literal:** `my_dict = {\"name\": \"Rob\", \"shoe_size\": 9.5}`"
   ]
  },
  {
   "cell_type": "code",
   "execution_count": null,
   "metadata": {},
   "outputs": [],
   "source": []
  },
  {
   "cell_type": "markdown",
   "metadata": {},
   "source": [
    "**Fetch by key:** `my_dict['name']`"
   ]
  },
  {
   "cell_type": "code",
   "execution_count": null,
   "metadata": {},
   "outputs": [],
   "source": []
  },
  {
   "cell_type": "markdown",
   "metadata": {},
   "source": [
    "**Safe fetch by key:** `my_dict.get(\"name\")`"
   ]
  },
  {
   "cell_type": "code",
   "execution_count": null,
   "metadata": {},
   "outputs": [],
   "source": []
  },
  {
   "cell_type": "markdown",
   "metadata": {},
   "source": [
    "**Add an item:** `my_dict['hair'] = \"brown\"`"
   ]
  },
  {
   "cell_type": "code",
   "execution_count": null,
   "metadata": {},
   "outputs": [],
   "source": []
  },
  {
   "cell_type": "markdown",
   "metadata": {},
   "source": [
    "**Just keys or values:** `my_dict.keys()` **or** `my_keys.values()`"
   ]
  },
  {
   "cell_type": "code",
   "execution_count": null,
   "metadata": {},
   "outputs": [],
   "source": []
  },
  {
   "cell_type": "markdown",
   "metadata": {},
   "source": [
    "**Key-value pairs:** `my_dict.items()`"
   ]
  },
  {
   "cell_type": "code",
   "execution_count": null,
   "metadata": {},
   "outputs": [],
   "source": []
  },
  {
   "cell_type": "markdown",
   "metadata": {},
   "source": [
    "### Exercises\n",
    "---\n",
    "**1. Write a function** `frequency()` **that will take a string and count the number of times each letter appears.**\n",
    "\n",
    "**The output should be a dictionary, like this:** `frequency(\"wood\") -> {\"w\": 1, \"o\": 2, \"d\": 1}`"
   ]
  },
  {
   "cell_type": "code",
   "execution_count": 19,
   "metadata": {},
   "outputs": [
    {
     "data": {
      "text/plain": [
       "{'w': 1, 'o': 2, 'd': 1}"
      ]
     },
     "execution_count": 19,
     "metadata": {},
     "output_type": "execute_result"
    }
   ],
   "source": [
    "def frequency(word):\n",
    "    my_dict = {}\n",
    "    for char in word:\n",
    "        if my_dict.get(char):\n",
    "            my_dict[char] = my_dict[char] + 1\n",
    "        else:\n",
    "            my_dict[char] = 1\n",
    "    return my_dict\n",
    "\n",
    "frequency(\"wood\")"
   ]
  },
  {
   "cell_type": "markdown",
   "metadata": {},
   "source": [
    "**2. Write a function to find the key with the largest value in a dictionary**\n",
    "\n",
    "Hint: Use the .items() method, and use the pattern from the [`get_largest()`](https://github.com/robcarrington/Week1_PythonForDataScience/blob/kbw/Session2_Exercises_Solved.ipynb) function from last session."
   ]
  },
  {
   "cell_type": "code",
   "execution_count": null,
   "metadata": {},
   "outputs": [],
   "source": [
    "def largest_key(dictionary):\n",
    "    "
   ]
  },
  {
   "cell_type": "markdown",
   "metadata": {},
   "source": [
    "**3. Write a function** `grocery_prices()` **that will loop over a dictionary like** `prices` **below and print how much each item costs.**\n",
    "\n",
    "**For example, its first output would be:** `\"A banana costs $4\"`"
   ]
  },
  {
   "cell_type": "code",
   "execution_count": 24,
   "metadata": {},
   "outputs": [
    {
     "name": "stdout",
     "output_type": "stream",
     "text": [
      "A banana costs $4\n",
      "A apple costs $2\n",
      "A orange costs $1.5\n",
      "A pear costs $3\n"
     ]
    }
   ],
   "source": [
    "prices={\"banana\": 4,\"apple\": 2,\"orange\": 1.5,\"pear\": 3}\n",
    "\n",
    "def grocery_prices(dictionary):\n",
    "    for key, value in dictionary.items():\n",
    "        print(f\"A {key} costs ${value}\")\n",
    "        \n",
    "grocery_prices(prices)"
   ]
  },
  {
   "cell_type": "markdown",
   "metadata": {},
   "source": [
    "### Extra Credit\n",
    "---\n",
    "**1. Write a function to convert the following list of strings into a dictionary.** \n",
    "\n",
    "**Each student's name is a key, and their list of scores (as ints) are the values.**\n",
    "\n",
    "**For example:** `\"Alex\": [75, 50, 90, 80, 90, 70]` **would be one item in the dictionary**"
   ]
  },
  {
   "cell_type": "code",
   "execution_count": null,
   "metadata": {},
   "outputs": [],
   "source": [
    "student_scores =['Alex|75 50 90 80 90 70',\n",
    "                'Mary|76 72 71 68 85 69',\n",
    "                'John|69 67 68 71 68 67',\n",
    "                'Anne|80 69 59 82 71 81',\n",
    "                'Mark|79 81 74 71 69 73'"
   ]
  },
  {
   "cell_type": "code",
   "execution_count": null,
   "metadata": {},
   "outputs": [],
   "source": []
  },
  {
   "cell_type": "markdown",
   "metadata": {},
   "source": [
    "## III. Classes and Objects\n",
    "\n",
    "\n",
    "### Warm Ups\n",
    "---\n",
    "\n",
    "**1. Create a class with an attribute and method:** \n",
    "\n",
    "```python\n",
    "class Person():\n",
    "    def __init__(self, name):\n",
    "        self.name = name\n",
    "        \n",
    "    def say_name(self):\n",
    "        print(self.name)\n",
    "```"
   ]
  },
  {
   "cell_type": "code",
   "execution_count": 27,
   "metadata": {},
   "outputs": [],
   "source": [
    "class Person():\n",
    "    def __init__(self, name):\n",
    "        self.name = name\n",
    "\n",
    "    def say_name(self):\n",
    "        print(self.name)"
   ]
  },
  {
   "cell_type": "markdown",
   "metadata": {},
   "source": [
    "**2. Create an instance of class:** `rob = Person(\"Rob\")`"
   ]
  },
  {
   "cell_type": "code",
   "execution_count": null,
   "metadata": {},
   "outputs": [],
   "source": []
  },
  {
   "cell_type": "markdown",
   "metadata": {},
   "source": [
    "**3. Fetching an attribute:** `rob.name`"
   ]
  },
  {
   "cell_type": "code",
   "execution_count": null,
   "metadata": {},
   "outputs": [],
   "source": []
  },
  {
   "cell_type": "markdown",
   "metadata": {},
   "source": [
    "**4. Calling a method:** `rob.say_name()`"
   ]
  },
  {
   "cell_type": "code",
   "execution_count": null,
   "metadata": {},
   "outputs": [],
   "source": []
  },
  {
   "cell_type": "markdown",
   "metadata": {},
   "source": [
    "### Exercises\n",
    "---\n",
    "**1. Create a Person instance with a different name, and make them say their name.**"
   ]
  },
  {
   "cell_type": "code",
   "execution_count": 28,
   "metadata": {},
   "outputs": [
    {
     "name": "stdout",
     "output_type": "stream",
     "text": [
      "Emily\n"
     ]
    }
   ],
   "source": [
    "emily = Person(\"Emily\")\n",
    "emily.say_name()"
   ]
  },
  {
   "cell_type": "markdown",
   "metadata": {},
   "source": [
    "**2. Add a** `hair` **attribute to the** `Person` **class, which will store what color hair they have.**\n",
    "\n",
    "**Rerun the code defining the** `Person` **class then create a person with blonde hair**\n",
    "\n",
    "Hint: There are two steps to add an attribute: (1) Adding a new input to the `__init__` method and (2) adding a line where `self.hair` is assigned the value of the new `hair` input. Use `name` as an example to copy."
   ]
  },
  {
   "cell_type": "code",
   "execution_count": 29,
   "metadata": {},
   "outputs": [],
   "source": [
    "class Person():\n",
    "    def __init__(self, name, hair):\n",
    "        self.name = name\n",
    "        self.hair = hair\n",
    "\n",
    "    def say_name(self):\n",
    "        print(self.name)"
   ]
  },
  {
   "cell_type": "markdown",
   "metadata": {},
   "source": [
    "**3. Define a** `Dog` **class that has two attributes:** `name` **and** `color.` **Add a** `.woof()` **method that prints to screen.**"
   ]
  },
  {
   "cell_type": "code",
   "execution_count": 34,
   "metadata": {},
   "outputs": [],
   "source": [
    "class Dog():\n",
    "    def __init__(self, name, color):\n",
    "        self.name = name\n",
    "        self.color = color\n",
    "    \n",
    "    def woof(self):\n",
    "        print(\"WOOF WOOF\")\n",
    "        "
   ]
  },
  {
   "cell_type": "markdown",
   "metadata": {},
   "source": [
    "**4. Create two different** `Dog` **instances, with different names and colors. Make them** `woof()`."
   ]
  },
  {
   "cell_type": "code",
   "execution_count": 35,
   "metadata": {},
   "outputs": [
    {
     "name": "stdout",
     "output_type": "stream",
     "text": [
      "WOOF WOOF\n",
      "WOOF WOOF\n"
     ]
    }
   ],
   "source": [
    "dog1 = Dog(\"Spot\", \"brown\")\n",
    "dog2 = Dog(\"Jackson\", \"black\")\n",
    "\n",
    "dog1.woof()\n",
    "dog2.woof()"
   ]
  },
  {
   "cell_type": "markdown",
   "metadata": {},
   "source": [
    "### Extra Credit\n",
    "---\n",
    "\n",
    "**1. Create a** `BankAccount` **class that tracks an account balance. Give it** `withdraw()` and `deposit()` **methods.**"
   ]
  },
  {
   "cell_type": "code",
   "execution_count": 40,
   "metadata": {},
   "outputs": [],
   "source": [
    "class BankAccount():\n",
    "    def __init__(self, balance):\n",
    "        self.balance = balance\n",
    "    \n",
    "    def withdraw(self, amount):\n",
    "        self.balance = self.balance - amount\n",
    "        return self.balance\n",
    "    \n",
    "    def deposit(self, amount):\n",
    "        self.balance = self.balance + amount\n",
    "        return self.balance"
   ]
  },
  {
   "cell_type": "markdown",
   "metadata": {},
   "source": [
    "**2. Create an `EmailInbox` class that can hold several e-mails, each represented as a dictionary like the following:** `{\"sender\": \"Rob C\", \"message\": \"Hi, this is an e-mail\"}` \n",
    "\n",
    "**The class should have methods for receiving/deleting e-mails, and order of the e-mails received should be preserved.**\n",
    "\n",
    "Hint: A list can be part of an object!"
   ]
  },
  {
   "cell_type": "code",
   "execution_count": 49,
   "metadata": {},
   "outputs": [],
   "source": [
    "class EmailInbox():\n",
    "    def __init__(self, emails):\n",
    "        self.emails = emails\n",
    "    \n",
    "    def receive(self, email):\n",
    "        self.emails.append(email)\n",
    "        return self.emails\n",
    "    \n",
    "    def delete(self, index):\n",
    "        deleted = self.emails.pop(index)\n",
    "        return f\"EMAIL DELETED: {deleted}\""
   ]
  },
  {
   "cell_type": "markdown",
   "metadata": {},
   "source": [
    "## IV. Imports and Packages\n",
    "---\n",
    "\n",
    "### Warm Ups"
   ]
  },
  {
   "cell_type": "markdown",
   "metadata": {},
   "source": [
    "**Import package:** `import numpy`"
   ]
  },
  {
   "cell_type": "code",
   "execution_count": null,
   "metadata": {},
   "outputs": [],
   "source": []
  },
  {
   "cell_type": "markdown",
   "metadata": {},
   "source": [
    "**Import class from package:** `from numpy import array`"
   ]
  },
  {
   "cell_type": "code",
   "execution_count": null,
   "metadata": {},
   "outputs": [],
   "source": []
  },
  {
   "cell_type": "markdown",
   "metadata": {},
   "source": [
    "**Import package with alias:** `import numpy as np`"
   ]
  },
  {
   "cell_type": "code",
   "execution_count": null,
   "metadata": {},
   "outputs": [],
   "source": []
  },
  {
   "cell_type": "markdown",
   "metadata": {},
   "source": [
    "**Use class within package:** `np.array([1, 2, 3])`"
   ]
  },
  {
   "cell_type": "code",
   "execution_count": null,
   "metadata": {},
   "outputs": [],
   "source": []
  },
  {
   "attachments": {},
   "cell_type": "markdown",
   "metadata": {},
   "source": [
    "### Exercises\n",
    "---\n",
    "*Replaced with guided walkthrough of installing a package through the Anaconda GUI or through pip*"
   ]
  },
  {
   "cell_type": "markdown",
   "metadata": {},
   "source": [
    "### Extra Credit\n",
    "---\n",
    "\n",
    "**1. Try running:** `import antigravity`"
   ]
  },
  {
   "cell_type": "code",
   "execution_count": null,
   "metadata": {},
   "outputs": [],
   "source": []
  },
  {
   "cell_type": "markdown",
   "metadata": {},
   "source": [
    "**2. Try running:** `import this`"
   ]
  },
  {
   "cell_type": "code",
   "execution_count": null,
   "metadata": {},
   "outputs": [],
   "source": []
  }
 ],
 "metadata": {
  "kernelspec": {
   "display_name": "Python 3",
   "language": "python",
   "name": "python3"
  },
  "language_info": {
   "codemirror_mode": {
    "name": "ipython",
    "version": 3
   },
   "file_extension": ".py",
   "mimetype": "text/x-python",
   "name": "python",
   "nbconvert_exporter": "python",
   "pygments_lexer": "ipython3",
   "version": "3.6.8"
  }
 },
 "nbformat": 4,
 "nbformat_minor": 2
}
